{
 "metadata": {
  "language_info": {
   "codemirror_mode": {
    "name": "ipython",
    "version": 3
   },
   "file_extension": ".py",
   "mimetype": "text/x-python",
   "name": "python",
   "nbconvert_exporter": "python",
   "pygments_lexer": "ipython3",
   "version": "3.8.7-final"
  },
  "orig_nbformat": 2,
  "kernelspec": {
   "name": "python387jvsc74a57bd04447cc7378cf30879333494e5d460e5c62c12902847286c87503f98d25a71d26",
   "display_name": "Python 3.8.7 64-bit"
  }
 },
 "nbformat": 4,
 "nbformat_minor": 2,
 "cells": [
  {
   "cell_type": "code",
   "execution_count": 1,
   "metadata": {},
   "outputs": [
    {
     "output_type": "stream",
     "name": "stdout",
     "text": [
      "Your input is not valid\n"
     ]
    }
   ],
   "source": [
    "data = [\"()\", \"[]\", \"{}\"]\n",
    "input = input(\"Please enter a (), [], {} combination to check if it is valid :\")\n",
    "condition = any(bracket in input for bracket in data)\n",
    "while condition :\n",
    "    for i in data:\n",
    "        input = input.replace(i,\"\")\n",
    "    condition = any(bracket in input for bracket in data)\n",
    "print(\"Your input is {}valid\".format(\"\" if input==\"\" else \"not \"))"
   ]
  }
 ]
}