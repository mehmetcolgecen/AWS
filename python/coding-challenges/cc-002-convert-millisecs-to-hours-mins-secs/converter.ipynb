{
 "metadata": {
  "language_info": {
   "codemirror_mode": {
    "name": "ipython",
    "version": 3
   },
   "file_extension": ".py",
   "mimetype": "text/x-python",
   "name": "python",
   "nbconvert_exporter": "python",
   "pygments_lexer": "ipython3",
   "version": "3.8.7-final"
  },
  "orig_nbformat": 2,
  "kernelspec": {
   "name": "python387jvsc74a57bd04447cc7378cf30879333494e5d460e5c62c12902847286c87503f98d25a71d26",
   "display_name": "Python 3.8.7 64-bit"
  }
 },
 "nbformat": 4,
 "nbformat_minor": 2,
 "cells": [
  {
   "cell_type": "code",
   "execution_count": 1,
   "metadata": {},
   "outputs": [],
   "source": [
    "def converter(miliseconds):\n",
    "    if miliseconds < 1000:\n",
    "        return miliseconds\n",
    "    else:\n",
    "        seconds, miliseconds = divmod(miliseconds, 1000)\n",
    "        minutes, seconds = divmod(seconds, 60)\n",
    "        hours, minutes = divmod(minutes, 60)\n",
    "        return [hours, minutes, seconds]"
   ]
  },
  {
   "cell_type": "code",
   "execution_count": 2,
   "metadata": {},
   "outputs": [],
   "source": [
    "def calculated_time():\n",
    "    print(\"\"\"\n",
    "    ###  This program converts milliseconds into hours, minutes, and seconds ###\n",
    "                     (To exit the program, please type \"exit\")\n",
    "             Please enter the milliseconds (should be greater than zero) : \n",
    "    \"\"\")\n",
    "    while True:\n",
    "        entry = input()\n",
    "        if entry.lower() == \"exit\":\n",
    "            return \"Exiting the program... Good Bye\"\n",
    "        else:\n",
    "            try:\n",
    "                miliseconds = int(entry)\n",
    "            except :\n",
    "                print(\"Not Valid Input !!! Try again: \")\n",
    "                continue\n",
    "            if miliseconds < 1 :\n",
    "                print(\"Not Valid Input !!! Try again: \")\n",
    "                continue\n",
    "            time = [\"hour/s\", \"minute/s\", \"second/s\"]\n",
    "            calculated = converter(miliseconds)\n",
    "            if type(calculated) == int:\n",
    "                return f\"just {calculated} millisecond/s\"\n",
    "            else:\n",
    "                return(\" \".join([f\"{calculated[i]} {time[i]}\" for i in range(3) if calculated[i] != 0]))"
   ]
  }
 ]
}